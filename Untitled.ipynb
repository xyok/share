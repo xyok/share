{
 "cells": [
  {
   "cell_type": "markdown",
   "metadata": {
    "slideshow": {
     "slide_type": "slide"
    }
   },
   "source": [
    "## django插件分享\n",
    "\n",
    "- django-extensions\n",
    "\n",
    "    https://django-extensions-zh.readthedocs.io/zh_CN/latest/\n",
    "    \n",
    "- django-debugtoolbar\n",
    "\n",
    "\n",
    "\n",
    "\n",
    "\n",
    "\n",
    "\n",
    "\n"
   ]
  },
  {
   "cell_type": "markdown",
   "metadata": {
    "slideshow": {
     "slide_type": "slide"
    }
   },
   "source": [
    "```\n",
    "\n",
    "apt-get install graphviz-dev\n",
    "pip install pygraphviz\n",
    "```\n",
    "\n",
    "\n",
    "\n",
    "### 1. 绘制数据模型关系图\n",
    "\n",
    "#### 配置\n",
    "\n",
    "```setting.dev\n",
    "INSTALLED_APPS += ['debug_toolbar', 'django_extensions',]\n",
    "\n",
    "GRAPH_MODELS = {\n",
    "  'all_applications': True,\n",
    "  'group_models': True,\n",
    "}\n",
    "```\n",
    "生成关系图\n",
    "\n",
    "```\n",
    "python manage.py graph_models -g -a -n -o models.png\n",
    "```\n"
   ]
  },
  {
   "cell_type": "markdown",
   "metadata": {
    "slideshow": {
     "slide_type": "subslide"
    }
   },
   "source": [
    "![](http://localhost:8888/files/workspace/myworld/world/models.png)"
   ]
  },
  {
   "cell_type": "markdown",
   "metadata": {
    "slideshow": {
     "slide_type": "slide"
    }
   },
   "source": [
    "### 2. runscript 不启动Django服务的同时以Django项目的环境变量执行脚本方法\n",
    "\n",
    "\n",
    "$ mkdir scripts\n",
    "$ touch scripts/__init__.py\n",
    "\n",
    "touch scripts/testscript.py\n",
    "```\n",
    "def run():\n",
    "    pass\n",
    "```\n",
    "\n",
    "\n",
    "python manage.py testscript"
   ]
  },
  {
   "cell_type": "markdown",
   "metadata": {
    "slideshow": {
     "slide_type": "slide"
    }
   },
   "source": [
    "\n",
    "### 3. ipython notebook 功能\n",
    "\n",
    "requirement ： pip install notebook\n",
    "\n",
    "```\n",
    "python manager.py shell_plus --notebook\n",
    "```\n",
    "\n"
   ]
  },
  {
   "cell_type": "markdown",
   "metadata": {
    "slideshow": {
     "slide_type": "slide"
    }
   },
   "source": [
    "### 4. 快速创建 management扩展命令\n",
    "\n",
    "create_command\n",
    "\n",
    "\n",
    "### 5. 快速生成 admin.py\n",
    "\n",
    "```\n",
    "python manager.py admin_generator\n",
    "```\n"
   ]
  },
  {
   "cell_type": "markdown",
   "metadata": {
    "slideshow": {
     "slide_type": "subslide"
    }
   },
   "source": [
    "## 这个ppt怎么生成的？\n",
    "\n",
    "```\n",
    "jupyter-nbconvert --to slides Untitled.ipynb --reveal-prefix 'http//cdn.bootcss.com/reveal.js/3.2.0' --output slides\n",
    "```"
   ]
  }
 ],
 "metadata": {
  "celltoolbar": "Slideshow",
  "kernelspec": {
   "display_name": "Python 2",
   "language": "python",
   "name": "python2"
  },
  "language_info": {
   "codemirror_mode": {
    "name": "ipython",
    "version": 2
   },
   "file_extension": ".py",
   "mimetype": "text/x-python",
   "name": "python",
   "nbconvert_exporter": "python",
   "pygments_lexer": "ipython2",
   "version": "2.7.12"
  }
 },
 "nbformat": 4,
 "nbformat_minor": 2
}
